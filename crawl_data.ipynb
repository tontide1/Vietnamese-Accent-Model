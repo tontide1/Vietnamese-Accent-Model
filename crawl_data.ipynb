{
 "cells": [
  {
   "cell_type": "markdown",
   "metadata": {},
   "source": [
    "### Tải dữ liệu từ wikipedia về"
   ]
  },
  {
   "cell_type": "code",
   "execution_count": null,
   "metadata": {},
   "outputs": [],
   "source": [
    "!wget https://dumps.wikimedia.org/viwiki/latest/viwiki-latest-pages-articles.xml.bz2"
   ]
  },
  {
   "cell_type": "markdown",
   "metadata": {},
   "source": [
    "### Giải nén file"
   ]
  },
  {
   "cell_type": "code",
   "execution_count": null,
   "metadata": {},
   "outputs": [],
   "source": [
    "!wikiextractor --json --output output_viwiki --bytes 100M --no-templates viwiki-latest-pages-articles.xml.bz2"
   ]
  },
  {
   "cell_type": "markdown",
   "metadata": {},
   "source": [
    "### Làm sạch và tiền xử lý dữ liệu"
   ]
  },
  {
   "cell_type": "code",
   "execution_count": 20,
   "metadata": {},
   "outputs": [],
   "source": [
    "import os\n",
    "import json\n",
    "import re\n",
    "from tqdm import tqdm\n",
    "import glob2\n",
    "\n",
    "# Danh sách ký tự hợp lệ trong tiếng Việt\n",
    "intab_l = \"ạảãàáâậầấẩẫăắằặẳẵóòọõỏôộổỗồốơờớợởỡéèẻẹẽêếềệểễúùụủũưựữửừứíìịỉĩýỳỷỵỹđ\"\n",
    "ascii_lowercase = 'abcdefghijklmnopqrstuvwxyz'\n",
    "digits = '0123456789'\n",
    "punctuation = r\"\"\"!\"#$%&'()*+,-./:;<=>?@[\\]^_`{|}~\"\"\"\n",
    "whitespace = ' '\n",
    "accept_strings = intab_l + ascii_lowercase + digits + punctuation + whitespace\n",
    "char_pattern = re.compile('^[' + re.escape(accept_strings) + ']+$')\n",
    "\n",
    "def _check_tieng_viet(seq: str) -> bool:\n",
    "    return bool(re.match(char_pattern, seq.lower()))"
   ]
  },
  {
   "cell_type": "code",
   "execution_count": 21,
   "metadata": {},
   "outputs": [
    {
     "name": "stderr",
     "output_type": "stream",
     "text": [
      "Đang xử lý file Wikipedia: 100%|██████████| 20/20 [01:15<00:00,  3.75s/it]"
     ]
    },
    {
     "name": "stdout",
     "output_type": "stream",
     "text": [
      "\n",
      "Tổng số dòng hợp lệ: 1036774 dòng. Ghi vào 'train_tieng_viet.txt'\n"
     ]
    },
    {
     "name": "stderr",
     "output_type": "stream",
     "text": [
      "\n"
     ]
    }
   ],
   "source": [
    "def process_wiki_folder(input_folder: str, output_file: str):\n",
    "    idx = 0\n",
    "    all_files = glob2.glob(os.path.join(input_folder, '**'), recursive=True)\n",
    "\n",
    "    with open(output_file, 'w', encoding='utf8') as out_f:\n",
    "        for path in tqdm(all_files, desc=\"Đang xử lý file Wikipedia\"):\n",
    "            if os.path.isfile(path):\n",
    "                try:\n",
    "                    with open(path, 'r', encoding='utf8') as f:\n",
    "                        for line in f:\n",
    "                            try:\n",
    "                                art_json = json.loads(line)\n",
    "                                art_cont = art_json.get('text', '')\n",
    "                                art_cont = re.sub(r\"\\s+\", \" \", art_cont)  # Gom khoảng trắng dư\n",
    "                                art_seqs = art_cont.split(\"\\n\")  # Tách thành từng câu\n",
    "                                for seq in art_seqs:\n",
    "                                    if _check_tieng_viet(seq) and len(seq.strip()) > 20:\n",
    "                                        idx_str = str(idx).zfill(10)\n",
    "                                        out_f.write(f\"{idx_str}\\t{seq.strip()}\\n\")\n",
    "                                        idx += 1\n",
    "                            except json.JSONDecodeError:\n",
    "                                continue\n",
    "                except Exception as e:\n",
    "                    print(f\"Lỗi đọc {path}: {e}\")\n",
    "\n",
    "    print(f\"\\nTổng số dòng hợp lệ: {idx} dòng. Ghi vào '{output_file}'\")\n",
    "\n",
    "# 📂 Ví dụ sử dụng\n",
    "if __name__ == \"__main__\":\n",
    "    input_folder = r'C:\\Users\\tontide1\\my-data\\Vietnamese-Accent-Model\\output_viwiki\\AA'\n",
    "    output_file = 'train_tieng_viet.txt'\n",
    "    process_wiki_folder(input_folder, output_file)"
   ]
  }
 ],
 "metadata": {
  "kernelspec": {
   "display_name": "ML",
   "language": "python",
   "name": "python3"
  },
  "language_info": {
   "codemirror_mode": {
    "name": "ipython",
    "version": 3
   },
   "file_extension": ".py",
   "mimetype": "text/x-python",
   "name": "python",
   "nbconvert_exporter": "python",
   "pygments_lexer": "ipython3",
   "version": "3.10.11"
  }
 },
 "nbformat": 4,
 "nbformat_minor": 2
}
